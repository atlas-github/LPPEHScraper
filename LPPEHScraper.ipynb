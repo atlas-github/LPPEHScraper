{
  "nbformat": 4,
  "nbformat_minor": 0,
  "metadata": {
    "colab": {
      "name": "LPPEHScraper.ipynb",
      "provenance": [],
      "collapsed_sections": [],
      "authorship_tag": "ABX9TyNsJ31vxy6OuUHpMsIJhNQY",
      "include_colab_link": true
    },
    "kernelspec": {
      "name": "python3",
      "display_name": "Python 3"
    }
  },
  "cells": [
    {
      "cell_type": "markdown",
      "metadata": {
        "id": "view-in-github",
        "colab_type": "text"
      },
      "source": [
        "<a href=\"https://colab.research.google.com/github/atlas-github/LPPEHScraper/blob/master/LPPEHScraper.ipynb\" target=\"_parent\"><img src=\"https://colab.research.google.com/assets/colab-badge.svg\" alt=\"Open In Colab\"/></a>"
      ]
    },
    {
      "cell_type": "code",
      "metadata": {
        "id": "Dr1oJk2rMwDK",
        "colab_type": "code",
        "colab": {}
      },
      "source": [
        "import pandas as pd\n",
        "import requests\n",
        "import urllib.request\n",
        "import time\n",
        "from bs4 import BeautifulSoup\n",
        "\n",
        "headers = {\n",
        "    'Connection': 'keep-alive',\n",
        "    'Cache-Control': 'no-cache',\n",
        "    'DNT': '1',\n",
        "    'X-Requested-With': 'XMLHttpRequest',\n",
        "    'X-MicrosoftAjax': 'Delta=true',\n",
        "    'Content-Type': 'application/x-www-form-urlencoded; charset=UTF-8',\n",
        "    'User-Agent': 'Mozilla/5.0 (Linux; Android 6.0; Nexus 5 Build/MRA58N) AppleWebKit/537.36 (KHTML, like Gecko) Chrome/80.0.3987.149 Mobile Safari/537.36',\n",
        "    'Accept': '*/*',\n",
        "    'Origin': 'http://search.lppeh.gov.my',\n",
        "    'Referer': 'http://search.lppeh.gov.my/',\n",
        "    'Accept-Language': 'en-US,en;q=0.9,ms;q=0.8',\n",
        "}"
      ],
      "execution_count": 0,
      "outputs": []
    },
    {
      "cell_type": "code",
      "metadata": {
        "id": "VroDujlsNU0A",
        "colab_type": "code",
        "colab": {}
      },
      "source": [
        "compiled = []\n",
        "\n",
        "for i in range(1000, 9999):\n",
        "    data = {\n",
        "      'ctl00$ContentPlaceHolder1$ToolkitScriptManager1': 'ctl00$ContentPlaceHolder1$UpdatePanel1',\n",
        "      'ContentPlaceHolder1_ToolkitScriptManager1_HiddenField': '',\n",
        "      '__EVENTTARGET': 'ctl00$ContentPlaceHolder1$btnSubmitMember',\n",
        "      '__EVENTARGUMENT': '',\n",
        "      '__VIEWSTATE': '/wEPDwUIOTI4MTg0NzIPFg4eCGlzTWVtYmVyaB4FUmVnTm9lHgRTa2lwZh4JUGFnZUNvdW50Zh4LQ3VycmVudFBhZ2UCAR4KU2VhcmNoVHlwZQIBHglGaWx0ZXJGb3JlFgJmD2QWAgIDD2QWAgIBD2QWAgIDD2QWAmYPZBYCAjcPZBYCAgEPZBYCZg9kFgQCCQ88KwAOAgAUKwACDxYIHhxFbmFibGVFbWJlZGRlZEJhc2VTdHlsZXNoZWV0Zx4XRW5hYmxlQWpheFNraW5SZW5kZXJpbmdoHhJSZXNvbHZlZFJlbmRlck1vZGULKXJUZWxlcmlrLldlYi5VSS5SZW5kZXJNb2RlLCBUZWxlcmlrLldlYi5VSSwgVmVyc2lvbj0yMDE1LjIuODI2LjQwLCBDdWx0dXJlPW5ldXRyYWwsIFB1YmxpY0tleVRva2VuPTEyMWZhZTc4MTY1YmEzZDQBHhVFbmFibGVFbWJlZGRlZFNjcmlwdHNnZBcCBQ9TZWxlY3RlZEluZGV4ZXMWAAULRWRpdEluZGV4ZXMWAAEWAhYLDwIDFCsAA2Q8KwAFAQQFCEZpcm1OYW1lPCsABQEEBQlOZWdvQ291bnRkZRQrAAALKXlUZWxlcmlrLldlYi5VSS5HcmlkQ2hpbGRMb2FkTW9kZSwgVGVsZXJpay5XZWIuVUksIFZlcnNpb249MjAxNS4yLjgyNi40MCwgQ3VsdHVyZT1uZXV0cmFsLCBQdWJsaWNLZXlUb2tlbj0xMjFmYWU3ODE2NWJhM2Q0ATwrAAcACyl0VGVsZXJpay5XZWIuVUkuR3JpZEVkaXRNb2RlLCBUZWxlcmlrLldlYi5VSSwgVmVyc2lvbj0yMDE1LjIuODI2LjQwLCBDdWx0dXJlPW5ldXRyYWwsIFB1YmxpY0tleVRva2VuPTEyMWZhZTc4MTY1YmEzZDQBFgIeBF9lZnMWAh4EX2VjY2RkZGRmZAILDzwrAA4CABQrAAIPFggfB2cfCGgfCQsrBAEfCmdkFwIFD1NlbGVjdGVkSW5kZXhlcxYABQtFZGl0SW5kZXhlcxYAARYCFgsPAgMUKwADZDwrAAUBBAUKTWVtYmVyTmFtZTwrAAUBBAUJTmVnb0NvdW50ZGUUKwAACysFATwrAAcACysGARYCHwsWAh8MZGRkZGZkGAEFHl9fQ29udHJvbHNSZXF1aXJlUG9zdEJhY2tLZXlfXxYCBSZjdGwwMCRDb250ZW50UGxhY2VIb2xkZXIxJGd2X0Zpcm0xTGlzdAUnY3RsMDAkQ29udGVudFBsYWNlSG9sZGVyMSRndl9NZW1iZXJMaXN0PjS9v60WnoplGouVdet7uAjbgX4In4YPC5m4sIsErI8=',\n",
        "      '__VIEWSTATEGENERATOR': '656833E6',\n",
        "      '__EVENTVALIDATION': '/wEdABwGWnMb8VLEn2sNPdUAAfxyTAB6IvnRsKjH/GIXkhJr230CjxlRlNH7aBuvsXQkT7eSlgEDS1Ec0Q5lEufrLzlmuhw3shugRLi/ezWMq/WOoW0ClP6J+KFBorrL6/IXBDaWc8jYeDPY8ZpB3+OoKMf2+RtfKPzAPx/CEPY7aSM2zVBzsyTU6xQXF2T6PNZdIRF4l20nDuzNoRHyV8B5Mlje7D+9DltTDOYsBc1Q0X2uUVcMtZ3McJC8PnxprqdN5ygcIl8jto5kwsGMr2BycnVwqvO1xt7gAlhiU2N/gF2JoNGYsl2HuTlzRWRUsWv+KO37hjtxtxE+Yk22OrUNR4QNbfvv2S257MRn4S6Mi259N2DCTycLq1FYOyIUUbcMFSq8Nx9UwBhEU3vEODmkiwkTA86wciyny2wAZTqLAoW/y3iFA5zaQUiPDKZgH918zLbkClnCsIZV5lhw33exYiUyOMltLyfcvtvCNKrWB7g36fc632YwPmF0ZKHRdI8H5S7ordAmCsB5fHjW5AkwtXI/w647KZyIMC/Zia3B8ua1mTDWHwg1Kuxd5yDqn5TxZAtqrqcqk9LIFhVWbG+1+xINY4JuO/Gryz/KSUaHjkymmfdapmGFpuYLW7nDv4BFV0E=',\n",
        "      'ctl00$ContentPlaceHolder1$txt_FirmRegNo': '',\n",
        "      'ctl00$ContentPlaceHolder1$txt_FirmName': '',\n",
        "      'ctl00$ContentPlaceHolder1$txt_FirmCombineAdd': '',\n",
        "      'ctl00$ContentPlaceHolder1$ddl_FirmType': '',\n",
        "      'ctl00$ContentPlaceHolder1$ddl_StateDesc': '',\n",
        "      'ctl00$ContentPlaceHolder1$txt_MemberRegNo': 'E'+str(i),\n",
        "      'ctl00$ContentPlaceHolder1$txt_MemberName': '',\n",
        "      'ctl00$ContentPlaceHolder1$ddl_LicenseType': '',\n",
        "      'ctl00$ContentPlaceHolder1$txt_NegotiatorREN': '',\n",
        "      'ctl00$ContentPlaceHolder1$txt_NegotiatorName': '',\n",
        "      'ctl00$ContentPlaceHolder1$txt_NRIC_No': '',\n",
        "      'ctl00$ContentPlaceHolder1$txt_PassportNo': '',\n",
        "      'ctl00$ContentPlaceHolder1$txt_NegotiatorMobile': '',\n",
        "      'ctl00$ContentPlaceHolder1$txt_modalFirm1Name': '',\n",
        "      'ctl00_ContentPlaceHolder1_gv_Firm1List_ClientState': '',\n",
        "      'ctl00_ContentPlaceHolder1_gv_MemberList_ClientState': '',\n",
        "      '__ASYNCPOST': 'true',\n",
        "      '': ''\n",
        "    }\n",
        "\n",
        "    response = requests.post('http://search.lppeh.gov.my/', headers=headers, data=data, verify=False)\n",
        "    soup = BeautifulSoup(response.text, \"html.parser\")\n",
        "    numbers = soup.findAll('strong')\n",
        "    test = soup.findAll('p')\n",
        "    try:\n",
        "        row = list([numbers[0].get_text(), test[0].get_text(), test[1].get_text()])\n",
        "    except:\n",
        "        row = list([0, 0, 0])\n",
        "    compiled.append(row)"
      ],
      "execution_count": 0,
      "outputs": []
    },
    {
      "cell_type": "code",
      "metadata": {
        "id": "EOS1anYTNWKu",
        "colab_type": "code",
        "colab": {}
      },
      "source": [
        "compiled"
      ],
      "execution_count": 0,
      "outputs": []
    },
    {
      "cell_type": "code",
      "metadata": {
        "id": "tcyBkmYsNYAg",
        "colab_type": "code",
        "colab": {}
      },
      "source": [
        "phase1 = pd.DataFrame(compiled, columns = {\"Member Number\", \"Member Name\", \"Company Name\"})\n",
        "phase1"
      ],
      "execution_count": 0,
      "outputs": []
    },
    {
      "cell_type": "code",
      "metadata": {
        "id": "49gyn5DCNYC_",
        "colab_type": "code",
        "colab": {}
      },
      "source": [
        "phase1.to_csv('phase2.csv')\n",
        "from google.cloud import files\n",
        "files.download('phase2.csv')"
      ],
      "execution_count": 0,
      "outputs": []
    }
  ]
}